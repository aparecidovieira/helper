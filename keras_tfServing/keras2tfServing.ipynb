{
 "cells": [
  {
   "cell_type": "code",
   "execution_count": null,
   "metadata": {},
   "outputs": [],
   "source": [
    "import keras.backend as K\n",
    "import tensorflow as tf\n",
    "from tensorflow.python import saved_model\n",
    "from tensorflow.python.saved_model.signature_def_utils_impl import (\n",
    "    build_signature_def, predict_signature_def\n",
    ")\n",
    "from keras_retinanet import models\n",
    "import shutil\n",
    "import os\n",
    "\n",
    "os.environ['CUDA_VISIBLE_DEVICES'] = '-1'"
   ]
  },
  {
   "cell_type": "code",
   "execution_count": null,
   "metadata": {},
   "outputs": [],
   "source": [
    "! pip install 'h5py<3.0.0'\n"
   ]
  },
  {
   "cell_type": "code",
   "execution_count": null,
   "metadata": {},
   "outputs": [],
   "source": [
    "K.set_learning_phase(0)\n",
    "\n",
    "## Folder where tf serving weights will be saved\n",
    "path = './Tensorflow_servings_weights/'\n",
    "\n",
    "## backbone of mode\n",
    "backbone = 'resnet101'\n",
    "\n",
    "## Path to specific location of weights per backbone\n",
    "path_model_serving = path + backbone\n",
    "os.makedirs(path_model_serving, exist_ok=True)\n",
    "\n",
    "### Path to version of model \n",
    "export_path = path_model_serving + '/0/'\n",
    "\n",
    "num_classes = 20\n",
    "model = models.convert_model(\n",
    "    model=models.backbone(backbone_name=backbone).retinanet(num_classes=num_classes),\n",
    "    nms=True,\n",
    "    class_specific_filter=True,\n",
    "    anchor_params=None\n",
    ")\n",
    "\n",
    "\n",
    "path_checkpoint = '/snapshots/Mark_detection_12k/resnet101_train_lanes_12k.txt_csv_30.h5'\n",
    "model.load_weights(path_checkpoint)\n",
    "\n",
    "print('Output layers', [o.name[:-2] for o in model.outputs])\n",
    "print('Input layer', model.inputs[0].name[:-2])\n",
    "if os.path.isdir(export_path):\n",
    "    shutil.rmtree(export_path)\n",
    "\n",
    "builder = saved_model.builder.SavedModelBuilder(export_path)\n",
    "\n",
    "signature = predict_signature_def(\n",
    "    inputs={'input': model.input},\n",
    "    outputs={\n",
    "        'output1': model.outputs[0],\n",
    "        'output2': model.outputs[1],\n",
    "        'output3': model.outputs[2]\n",
    "    }\n",
    ")\n",
    "\n",
    "## output1 = boxes\n",
    "## output2 = scores\n",
    "## output1 = labels\n",
    "\n",
    "sess = K.get_session()\n",
    "# sess.run(tf.global_variables_initializer()) \n",
    "\n",
    "builder.add_meta_graph_and_variables(sess=sess,\n",
    "                                     tags=[saved_model.tag_constants.SERVING],\n",
    "                                     signature_def_map={'predict': signature})\n",
    "builder.save()\n"
   ]
  },
  {
   "cell_type": "code",
   "execution_count": null,
   "metadata": {},
   "outputs": [],
   "source": []
  }
 ],
 "metadata": {
  "kernelspec": {
   "display_name": "Python [conda env:yes-cesar3] *",
   "language": "python",
   "name": "conda-env-yes-cesar3-py"
  },
  "language_info": {
   "codemirror_mode": {
    "name": "ipython",
    "version": 3
   },
   "file_extension": ".py",
   "mimetype": "text/x-python",
   "name": "python",
   "nbconvert_exporter": "python",
   "pygments_lexer": "ipython3",
   "version": "3.6.6"
  }
 },
 "nbformat": 4,
 "nbformat_minor": 4
}
